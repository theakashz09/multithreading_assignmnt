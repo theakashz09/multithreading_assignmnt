{
 "cells": [
  {
   "cell_type": "raw",
   "id": "3125166a-cdf1-43c2-b240-34372b18363f",
   "metadata": {},
   "source": [
    "Q1. What is multithreading in python? hy is it used? Name the module used to handle threads in python\n",
    "\n",
    "Ans. In python Multithreding is a programming technique that allows multiple threads to run concurrently within a single process. this means that multiple tasks can be executed at the same time which can improve the performance of program.\n",
    "the threading module in python is used to handle threads. It provide a number of classes and functions that we can use to create manage and communicate with threads. the benifits of using multithreading in python that it can pmprrove the performance of the program by allowing multiople tasks to be executed at the same time \n",
    "multithreading can help to keep application responsive while it is running a background task. this is because the backgraound task can be run in a separate thread so it will not block the main thrad "
   ]
  },
  {
   "cell_type": "raw",
   "id": "ce0b6cd6-372a-4ad6-bb69-b7c6653d7276",
   "metadata": {},
   "source": [
    "Q2. Why threading module used? rite the use of the following functions\n",
    " 1.activeCount()\n",
    " 2.currentThread()\n",
    " 3.enumerate()\n",
    " \n",
    "Ans.  1.activeCount() -  In python the metod activecount is used to count the currently running thread\n",
    "\n",
    " 2.currentThread() - The current thread function can be ussed to get the current thrad of execution in a number of situation \n",
    " 3.enumerate() -  The enumerate function it takes an iterable object as input and returns an enumerate object, this enumerate object yields a tuple containing a counter and the value of the iterable at that position."
   ]
  },
  {
   "cell_type": "raw",
   "id": "cd493982-5531-496f-ab78-f8045a5cfc93",
   "metadata": {},
   "source": []
  },
  {
   "cell_type": "raw",
   "id": "9af67f90-478e-4b57-af3e-63578ab93101",
   "metadata": {},
   "source": [
    "3. Explain the following functions\n",
    "( run\n",
    " start\n",
    " join\n",
    "' isAlive)\n",
    "\n",
    "Ans. = 1. run() - This method is used to start a thread activly. it normally execute in the background after the .start() method is invoked\n",
    " 2 . start() - The start method in python is used to start a thread. when we call the start() method on a thread object, it tells the python interpreter to start executeing the run() method of that thread in a seprate thread of control.\n",
    " \n",
    " 3 join() - join method used to join an iterable elements seprated by a string seprator \n",
    " \n",
    " 4 isalive() -  is_alive method is used to check if a thread is still running, It returns True if the thread is still running and False if it is not"
   ]
  },
  {
   "cell_type": "raw",
   "id": "c34b61ef-b5dc-46eb-b95d-e06e436d80ac",
   "metadata": {},
   "source": [
    "4. rite a python program to create two threads. Thread one must print the list of squares and thread\n",
    "two must print the list of cubes\n",
    "\n",
    "Ans = "
   ]
  },
  {
   "cell_type": "code",
   "execution_count": 10,
   "id": "8ce3d1c2-ae8f-43f6-9e05-7b05e4c3355e",
   "metadata": {},
   "outputs": [
    {
     "name": "stdout",
     "output_type": "stream",
     "text": [
      "square: [1, 4, 9, 16, 25, 36]\n",
      "cube : [1, 8, 27, 64, 125, 216]\n"
     ]
    }
   ],
   "source": [
    "import threading\n",
    "def list_square(number):\n",
    "    square = [num**2 for num in number]\n",
    "    print (f\"square: {square}\")\n",
    "number = [1,2,3,4,5,6]\n",
    "    \n",
    "thread1 = threading.Thread(target=list_square , args= (number,))\n",
    "\n",
    "thread1.start()\n",
    "thread1.join()\n",
    "\n",
    "def list_cube(number):\n",
    "    cube = [num ** 3 for num in number]\n",
    "    print (f\"cube : {cube}\")\n",
    "    \n",
    "thread2 = threading.Thread(target=list_cube , args=(number,))\n",
    "\n",
    "thread2.start()\n",
    "thread2.join()\n",
    "\n",
    "\n",
    "                 "
   ]
  },
  {
   "cell_type": "raw",
   "id": "01a29c23-1860-4c7f-8775-df308c4f4203",
   "metadata": {},
   "source": [
    "5. State advantages and disadvantages of multithreading\n",
    "\n",
    "Ans= advantage:-\n",
    "Multithradin allows multiple threads to run concurrently improving efficiency and performance,responsiveness,threads within the same process can easily share resources such as memory ,improved performance,simplicity .\n",
    "disadvantage :-\n",
    "complexity,challanging to diagnose and fix issues\n"
   ]
  },
  {
   "cell_type": "raw",
   "id": "92c04bf7-da31-433e-8578-eca6c9db094b",
   "metadata": {},
   "source": [
    "6. Explain deadlocks and race conditions.\n",
    "\n",
    "Ans race condition occurs when two or more threads are accessing and modifying the same data at the same time and the outcomes of the program depends on the order in which the treads access the data. this can lead to unexpected and incorrect result.\n",
    "A deadlock occurs when to or more threads are waiting for each other to finish before they can continue. this can happen when each thread is holding a lock on a resource that the other threads needs."
   ]
  }
 ],
 "metadata": {
  "kernelspec": {
   "display_name": "Python 3 (ipykernel)",
   "language": "python",
   "name": "python3"
  },
  "language_info": {
   "codemirror_mode": {
    "name": "ipython",
    "version": 3
   },
   "file_extension": ".py",
   "mimetype": "text/x-python",
   "name": "python",
   "nbconvert_exporter": "python",
   "pygments_lexer": "ipython3",
   "version": "3.10.8"
  }
 },
 "nbformat": 4,
 "nbformat_minor": 5
}
